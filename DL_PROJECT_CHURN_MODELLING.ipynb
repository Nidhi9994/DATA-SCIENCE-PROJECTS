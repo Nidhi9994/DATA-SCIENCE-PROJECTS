{
  "nbformat": 4,
  "nbformat_minor": 0,
  "metadata": {
    "colab": {
      "name": "DL PROJECT : CHURN MODELLING",
      "provenance": [],
      "collapsed_sections": []
    },
    "kernelspec": {
      "name": "python3",
      "display_name": "Python 3"
    },
    "language_info": {
      "name": "python"
    }
  },
  "cells": [
    {
      "cell_type": "markdown",
      "metadata": {
        "id": "2YK-MLI5DEEW"
      },
      "source": [
        "**GOAL:** A bank is investigating a very high rate of customer leaving the bank. Our goal is to investigate and predict which of the customers are more likely to leave the bank soon based on the given dataset."
      ]
    },
    {
      "cell_type": "code",
      "metadata": {
        "id": "h_H0Ed0iDHqN"
      },
      "source": [
        "import numpy as np\n",
        "import pandas as pd \n",
        "import matplotlib.pyplot as plt\n",
        "import seaborn as sns\n",
        "import tensorflow as tf\n",
        "from scipy.stats import skew\n",
        "from sklearn.model_selection import train_test_split\n",
        "from sklearn.preprocessing import StandardScaler\n",
        "from sklearn.metrics import classification_report\n",
        "from tensorflow.keras.models import Sequential\n",
        "from tensorflow.keras.layers import Dense\n",
        "from sklearn.metrics import confusion_matrix\n",
        "import warnings\n",
        "warnings.filterwarnings('ignore')"
      ],
      "execution_count": 116,
      "outputs": []
    },
    {
      "cell_type": "code",
      "metadata": {
        "id": "EvRKhsRIDN2P"
      },
      "source": [
        "df = pd.read_csv(\"/content/drive/MyDrive/Colab Notebooks/Churn_Modelling.csv\")"
      ],
      "execution_count": 17,
      "outputs": []
    },
    {
      "cell_type": "markdown",
      "metadata": {
        "id": "9EjfDQWaEPif"
      },
      "source": [
        "#EDA and PREPROCESSING :"
      ]
    },
    {
      "cell_type": "code",
      "metadata": {
        "colab": {
          "base_uri": "https://localhost:8080/",
          "height": 197
        },
        "id": "Gf2CYFw6DdrG",
        "outputId": "478eb227-8c29-45da-d0b5-23ca46ea6289"
      },
      "source": [
        "df.head()"
      ],
      "execution_count": 18,
      "outputs": [
        {
          "output_type": "execute_result",
          "data": {
            "text/html": [
              "<div>\n",
              "<style scoped>\n",
              "    .dataframe tbody tr th:only-of-type {\n",
              "        vertical-align: middle;\n",
              "    }\n",
              "\n",
              "    .dataframe tbody tr th {\n",
              "        vertical-align: top;\n",
              "    }\n",
              "\n",
              "    .dataframe thead th {\n",
              "        text-align: right;\n",
              "    }\n",
              "</style>\n",
              "<table border=\"1\" class=\"dataframe\">\n",
              "  <thead>\n",
              "    <tr style=\"text-align: right;\">\n",
              "      <th></th>\n",
              "      <th>RowNumber</th>\n",
              "      <th>CustomerId</th>\n",
              "      <th>Surname</th>\n",
              "      <th>CreditScore</th>\n",
              "      <th>Geography</th>\n",
              "      <th>Gender</th>\n",
              "      <th>Age</th>\n",
              "      <th>Tenure</th>\n",
              "      <th>Balance</th>\n",
              "      <th>NumOfProducts</th>\n",
              "      <th>HasCrCard</th>\n",
              "      <th>IsActiveMember</th>\n",
              "      <th>EstimatedSalary</th>\n",
              "      <th>Exited</th>\n",
              "    </tr>\n",
              "  </thead>\n",
              "  <tbody>\n",
              "    <tr>\n",
              "      <th>0</th>\n",
              "      <td>1</td>\n",
              "      <td>15634602</td>\n",
              "      <td>Hargrave</td>\n",
              "      <td>619</td>\n",
              "      <td>France</td>\n",
              "      <td>Female</td>\n",
              "      <td>42</td>\n",
              "      <td>2</td>\n",
              "      <td>0.00</td>\n",
              "      <td>1</td>\n",
              "      <td>1</td>\n",
              "      <td>1</td>\n",
              "      <td>101348.88</td>\n",
              "      <td>1</td>\n",
              "    </tr>\n",
              "    <tr>\n",
              "      <th>1</th>\n",
              "      <td>2</td>\n",
              "      <td>15647311</td>\n",
              "      <td>Hill</td>\n",
              "      <td>608</td>\n",
              "      <td>Spain</td>\n",
              "      <td>Female</td>\n",
              "      <td>41</td>\n",
              "      <td>1</td>\n",
              "      <td>83807.86</td>\n",
              "      <td>1</td>\n",
              "      <td>0</td>\n",
              "      <td>1</td>\n",
              "      <td>112542.58</td>\n",
              "      <td>0</td>\n",
              "    </tr>\n",
              "    <tr>\n",
              "      <th>2</th>\n",
              "      <td>3</td>\n",
              "      <td>15619304</td>\n",
              "      <td>Onio</td>\n",
              "      <td>502</td>\n",
              "      <td>France</td>\n",
              "      <td>Female</td>\n",
              "      <td>42</td>\n",
              "      <td>8</td>\n",
              "      <td>159660.80</td>\n",
              "      <td>3</td>\n",
              "      <td>1</td>\n",
              "      <td>0</td>\n",
              "      <td>113931.57</td>\n",
              "      <td>1</td>\n",
              "    </tr>\n",
              "    <tr>\n",
              "      <th>3</th>\n",
              "      <td>4</td>\n",
              "      <td>15701354</td>\n",
              "      <td>Boni</td>\n",
              "      <td>699</td>\n",
              "      <td>France</td>\n",
              "      <td>Female</td>\n",
              "      <td>39</td>\n",
              "      <td>1</td>\n",
              "      <td>0.00</td>\n",
              "      <td>2</td>\n",
              "      <td>0</td>\n",
              "      <td>0</td>\n",
              "      <td>93826.63</td>\n",
              "      <td>0</td>\n",
              "    </tr>\n",
              "    <tr>\n",
              "      <th>4</th>\n",
              "      <td>5</td>\n",
              "      <td>15737888</td>\n",
              "      <td>Mitchell</td>\n",
              "      <td>850</td>\n",
              "      <td>Spain</td>\n",
              "      <td>Female</td>\n",
              "      <td>43</td>\n",
              "      <td>2</td>\n",
              "      <td>125510.82</td>\n",
              "      <td>1</td>\n",
              "      <td>1</td>\n",
              "      <td>1</td>\n",
              "      <td>79084.10</td>\n",
              "      <td>0</td>\n",
              "    </tr>\n",
              "  </tbody>\n",
              "</table>\n",
              "</div>"
            ],
            "text/plain": [
              "   RowNumber  CustomerId   Surname  ...  IsActiveMember EstimatedSalary Exited\n",
              "0          1    15634602  Hargrave  ...               1       101348.88      1\n",
              "1          2    15647311      Hill  ...               1       112542.58      0\n",
              "2          3    15619304      Onio  ...               0       113931.57      1\n",
              "3          4    15701354      Boni  ...               0        93826.63      0\n",
              "4          5    15737888  Mitchell  ...               1        79084.10      0\n",
              "\n",
              "[5 rows x 14 columns]"
            ]
          },
          "metadata": {
            "tags": []
          },
          "execution_count": 18
        }
      ]
    },
    {
      "cell_type": "code",
      "metadata": {
        "id": "nXm0ego-DhFA"
      },
      "source": [
        "df.drop([\"RowNumber\"], axis=1, inplace=True )"
      ],
      "execution_count": 19,
      "outputs": []
    },
    {
      "cell_type": "code",
      "metadata": {
        "id": "9P-XdcGD9p-r"
      },
      "source": [
        "df.drop([\"CustomerId\"], axis=1, inplace=True )"
      ],
      "execution_count": 20,
      "outputs": []
    },
    {
      "cell_type": "markdown",
      "metadata": {
        "id": "ufrT1sBIEEUT"
      },
      "source": [
        "Irrelevent colums RowNumber and CustomerID are dropped."
      ]
    },
    {
      "cell_type": "code",
      "metadata": {
        "colab": {
          "base_uri": "https://localhost:8080/",
          "height": 0
        },
        "id": "2hP1d9Ac9nca",
        "outputId": "f9a051e6-a808-4b00-fe5f-9e3499f39aaa"
      },
      "source": [
        "df.shape"
      ],
      "execution_count": 21,
      "outputs": [
        {
          "output_type": "execute_result",
          "data": {
            "text/plain": [
              "(10000, 12)"
            ]
          },
          "metadata": {
            "tags": []
          },
          "execution_count": 21
        }
      ]
    },
    {
      "cell_type": "code",
      "metadata": {
        "colab": {
          "base_uri": "https://localhost:8080/",
          "height": 0
        },
        "id": "65EHmOKXD70h",
        "outputId": "8b66b597-8b1b-4b42-b192-b1470dec0ce3"
      },
      "source": [
        "df.info()"
      ],
      "execution_count": 22,
      "outputs": [
        {
          "output_type": "stream",
          "text": [
            "<class 'pandas.core.frame.DataFrame'>\n",
            "RangeIndex: 10000 entries, 0 to 9999\n",
            "Data columns (total 12 columns):\n",
            " #   Column           Non-Null Count  Dtype  \n",
            "---  ------           --------------  -----  \n",
            " 0   Surname          10000 non-null  object \n",
            " 1   CreditScore      10000 non-null  int64  \n",
            " 2   Geography        10000 non-null  object \n",
            " 3   Gender           10000 non-null  object \n",
            " 4   Age              10000 non-null  int64  \n",
            " 5   Tenure           10000 non-null  int64  \n",
            " 6   Balance          10000 non-null  float64\n",
            " 7   NumOfProducts    10000 non-null  int64  \n",
            " 8   HasCrCard        10000 non-null  int64  \n",
            " 9   IsActiveMember   10000 non-null  int64  \n",
            " 10  EstimatedSalary  10000 non-null  float64\n",
            " 11  Exited           10000 non-null  int64  \n",
            "dtypes: float64(2), int64(7), object(3)\n",
            "memory usage: 937.6+ KB\n"
          ],
          "name": "stdout"
        }
      ]
    },
    {
      "cell_type": "code",
      "metadata": {
        "colab": {
          "base_uri": "https://localhost:8080/",
          "height": 0
        },
        "id": "vh-m7RDOEZBO",
        "outputId": "3791613f-c6b5-44ee-c520-06e348824d10"
      },
      "source": [
        "df.isnull().sum()"
      ],
      "execution_count": 23,
      "outputs": [
        {
          "output_type": "execute_result",
          "data": {
            "text/plain": [
              "Surname            0\n",
              "CreditScore        0\n",
              "Geography          0\n",
              "Gender             0\n",
              "Age                0\n",
              "Tenure             0\n",
              "Balance            0\n",
              "NumOfProducts      0\n",
              "HasCrCard          0\n",
              "IsActiveMember     0\n",
              "EstimatedSalary    0\n",
              "Exited             0\n",
              "dtype: int64"
            ]
          },
          "metadata": {
            "tags": []
          },
          "execution_count": 23
        }
      ]
    },
    {
      "cell_type": "code",
      "metadata": {
        "colab": {
          "base_uri": "https://localhost:8080/",
          "height": 0
        },
        "id": "zAdVsZPBH6xt",
        "outputId": "7c1b879b-5633-492c-e172-14b2108b3235"
      },
      "source": [
        "#Finding the special characters in the data frame \n",
        "df.isin(['?']).sum(axis=0)"
      ],
      "execution_count": 24,
      "outputs": [
        {
          "output_type": "execute_result",
          "data": {
            "text/plain": [
              "Surname            0\n",
              "CreditScore        0\n",
              "Geography          0\n",
              "Gender             0\n",
              "Age                0\n",
              "Tenure             0\n",
              "Balance            0\n",
              "NumOfProducts      0\n",
              "HasCrCard          0\n",
              "IsActiveMember     0\n",
              "EstimatedSalary    0\n",
              "Exited             0\n",
              "dtype: int64"
            ]
          },
          "metadata": {
            "tags": []
          },
          "execution_count": 24
        }
      ]
    },
    {
      "cell_type": "markdown",
      "metadata": {
        "id": "jZw98shB-z6a"
      },
      "source": [
        "We can see that there are no null values in our dataset."
      ]
    },
    {
      "cell_type": "code",
      "metadata": {
        "id": "9L-UtNNGJsPJ"
      },
      "source": [
        "#Seprating numeric and categoric columns:\n",
        "df_num = df.select_dtypes(exclude=['object'])\n",
        "df_cat = df.select_dtypes(include=['object'])"
      ],
      "execution_count": 25,
      "outputs": []
    },
    {
      "cell_type": "code",
      "metadata": {
        "colab": {
          "base_uri": "https://localhost:8080/",
          "height": 197
        },
        "id": "q2HFJnKHJsZ6",
        "outputId": "cbc9488c-50df-4235-cfd0-225c58d3e4c3"
      },
      "source": [
        "df_num.head()"
      ],
      "execution_count": 26,
      "outputs": [
        {
          "output_type": "execute_result",
          "data": {
            "text/html": [
              "<div>\n",
              "<style scoped>\n",
              "    .dataframe tbody tr th:only-of-type {\n",
              "        vertical-align: middle;\n",
              "    }\n",
              "\n",
              "    .dataframe tbody tr th {\n",
              "        vertical-align: top;\n",
              "    }\n",
              "\n",
              "    .dataframe thead th {\n",
              "        text-align: right;\n",
              "    }\n",
              "</style>\n",
              "<table border=\"1\" class=\"dataframe\">\n",
              "  <thead>\n",
              "    <tr style=\"text-align: right;\">\n",
              "      <th></th>\n",
              "      <th>CreditScore</th>\n",
              "      <th>Age</th>\n",
              "      <th>Tenure</th>\n",
              "      <th>Balance</th>\n",
              "      <th>NumOfProducts</th>\n",
              "      <th>HasCrCard</th>\n",
              "      <th>IsActiveMember</th>\n",
              "      <th>EstimatedSalary</th>\n",
              "      <th>Exited</th>\n",
              "    </tr>\n",
              "  </thead>\n",
              "  <tbody>\n",
              "    <tr>\n",
              "      <th>0</th>\n",
              "      <td>619</td>\n",
              "      <td>42</td>\n",
              "      <td>2</td>\n",
              "      <td>0.00</td>\n",
              "      <td>1</td>\n",
              "      <td>1</td>\n",
              "      <td>1</td>\n",
              "      <td>101348.88</td>\n",
              "      <td>1</td>\n",
              "    </tr>\n",
              "    <tr>\n",
              "      <th>1</th>\n",
              "      <td>608</td>\n",
              "      <td>41</td>\n",
              "      <td>1</td>\n",
              "      <td>83807.86</td>\n",
              "      <td>1</td>\n",
              "      <td>0</td>\n",
              "      <td>1</td>\n",
              "      <td>112542.58</td>\n",
              "      <td>0</td>\n",
              "    </tr>\n",
              "    <tr>\n",
              "      <th>2</th>\n",
              "      <td>502</td>\n",
              "      <td>42</td>\n",
              "      <td>8</td>\n",
              "      <td>159660.80</td>\n",
              "      <td>3</td>\n",
              "      <td>1</td>\n",
              "      <td>0</td>\n",
              "      <td>113931.57</td>\n",
              "      <td>1</td>\n",
              "    </tr>\n",
              "    <tr>\n",
              "      <th>3</th>\n",
              "      <td>699</td>\n",
              "      <td>39</td>\n",
              "      <td>1</td>\n",
              "      <td>0.00</td>\n",
              "      <td>2</td>\n",
              "      <td>0</td>\n",
              "      <td>0</td>\n",
              "      <td>93826.63</td>\n",
              "      <td>0</td>\n",
              "    </tr>\n",
              "    <tr>\n",
              "      <th>4</th>\n",
              "      <td>850</td>\n",
              "      <td>43</td>\n",
              "      <td>2</td>\n",
              "      <td>125510.82</td>\n",
              "      <td>1</td>\n",
              "      <td>1</td>\n",
              "      <td>1</td>\n",
              "      <td>79084.10</td>\n",
              "      <td>0</td>\n",
              "    </tr>\n",
              "  </tbody>\n",
              "</table>\n",
              "</div>"
            ],
            "text/plain": [
              "   CreditScore  Age  Tenure  ...  IsActiveMember  EstimatedSalary  Exited\n",
              "0          619   42       2  ...               1        101348.88       1\n",
              "1          608   41       1  ...               1        112542.58       0\n",
              "2          502   42       8  ...               0        113931.57       1\n",
              "3          699   39       1  ...               0         93826.63       0\n",
              "4          850   43       2  ...               1         79084.10       0\n",
              "\n",
              "[5 rows x 9 columns]"
            ]
          },
          "metadata": {
            "tags": []
          },
          "execution_count": 26
        }
      ]
    },
    {
      "cell_type": "code",
      "metadata": {
        "colab": {
          "base_uri": "https://localhost:8080/",
          "height": 197
        },
        "id": "3OTrSeXlJz_8",
        "outputId": "739aa945-88ee-4241-e192-31557dae95f8"
      },
      "source": [
        "df_cat.head()"
      ],
      "execution_count": 27,
      "outputs": [
        {
          "output_type": "execute_result",
          "data": {
            "text/html": [
              "<div>\n",
              "<style scoped>\n",
              "    .dataframe tbody tr th:only-of-type {\n",
              "        vertical-align: middle;\n",
              "    }\n",
              "\n",
              "    .dataframe tbody tr th {\n",
              "        vertical-align: top;\n",
              "    }\n",
              "\n",
              "    .dataframe thead th {\n",
              "        text-align: right;\n",
              "    }\n",
              "</style>\n",
              "<table border=\"1\" class=\"dataframe\">\n",
              "  <thead>\n",
              "    <tr style=\"text-align: right;\">\n",
              "      <th></th>\n",
              "      <th>Surname</th>\n",
              "      <th>Geography</th>\n",
              "      <th>Gender</th>\n",
              "    </tr>\n",
              "  </thead>\n",
              "  <tbody>\n",
              "    <tr>\n",
              "      <th>0</th>\n",
              "      <td>Hargrave</td>\n",
              "      <td>France</td>\n",
              "      <td>Female</td>\n",
              "    </tr>\n",
              "    <tr>\n",
              "      <th>1</th>\n",
              "      <td>Hill</td>\n",
              "      <td>Spain</td>\n",
              "      <td>Female</td>\n",
              "    </tr>\n",
              "    <tr>\n",
              "      <th>2</th>\n",
              "      <td>Onio</td>\n",
              "      <td>France</td>\n",
              "      <td>Female</td>\n",
              "    </tr>\n",
              "    <tr>\n",
              "      <th>3</th>\n",
              "      <td>Boni</td>\n",
              "      <td>France</td>\n",
              "      <td>Female</td>\n",
              "    </tr>\n",
              "    <tr>\n",
              "      <th>4</th>\n",
              "      <td>Mitchell</td>\n",
              "      <td>Spain</td>\n",
              "      <td>Female</td>\n",
              "    </tr>\n",
              "  </tbody>\n",
              "</table>\n",
              "</div>"
            ],
            "text/plain": [
              "    Surname Geography  Gender\n",
              "0  Hargrave    France  Female\n",
              "1      Hill     Spain  Female\n",
              "2      Onio    France  Female\n",
              "3      Boni    France  Female\n",
              "4  Mitchell     Spain  Female"
            ]
          },
          "metadata": {
            "tags": []
          },
          "execution_count": 27
        }
      ]
    },
    {
      "cell_type": "markdown",
      "metadata": {
        "id": "RPvUkw95KTZf"
      },
      "source": [
        "**CHECKING MULTICOLINEARITY :**"
      ]
    },
    {
      "cell_type": "code",
      "metadata": {
        "colab": {
          "base_uri": "https://localhost:8080/",
          "height": 558
        },
        "id": "FuatWoaJE7D8",
        "outputId": "6afac68b-6f8b-4bfc-85f6-2793028e3edc"
      },
      "source": [
        "plt.figure(figsize=(8,8))\n",
        "sns.heatmap(df.corr(),annot=True)\n",
        "plt.show()"
      ],
      "execution_count": 28,
      "outputs": [
        {
          "output_type": "display_data",
          "data": {
            "image/png": "[encoded data removed]",
            "text/plain": [
              "<Figure size 576x576 with 2 Axes>"
            ]
          },
          "metadata": {
            "tags": [],
            "needs_background": "light"
          }
        }
      ]
    },
    {
      "cell_type": "markdown",
      "metadata": {
        "id": "HOdXsIsr1mex"
      },
      "source": [
        "We can see that there is no significant multicolinearity between the coulmns.\n",
        "\n"
      ]
    },
    {
      "cell_type": "markdown",
      "metadata": {
        "id": "_d63Xl5DKkPX"
      },
      "source": [
        "**UNIVARIATE ANALYSIS**"
      ]
    },
    {
      "cell_type": "code",
      "metadata": {
        "colab": {
          "base_uri": "https://localhost:8080/",
          "height": 2374
        },
        "id": "xVxwrf1yHCjJ",
        "outputId": "c2f5b5fa-b3b1-41d4-c924-098694153f90"
      },
      "source": [
        "for col in df_num:\n",
        "    plt.figure()\n",
        "    sns.boxplot(df_num[col])\n",
        "    plt.show()"
      ],
      "execution_count": 29,
      "outputs": [
        {
          "output_type": "display_data",
          "data": {
            "image/png": "[encoded data removed]",
            "text/plain": [
              "<Figure size 432x288 with 1 Axes>"
            ]
          },
          "metadata": {
            "tags": [],
            "needs_background": "light"
          }
        },
        {
          "output_type": "display_data",
          "data": {
            "image/png": "[encoded data removed]",
            "text/plain": [
              "<Figure size 432x288 with 1 Axes>"
            ]
          },
          "metadata": {
            "tags": [],
            "needs_background": "light"
          }
        },
        {
          "output_type": "display_data",
          "data": {
            "image/png": "[encoded data removed]",
            "text/plain": [
              "<Figure size 432x288 with 1 Axes>"
            ]
          },
          "metadata": {
            "tags": [],
            "needs_background": "light"
          }
        },
        {
          "output_type": "display_data",
          "data": {
            "image/png": "[encoded data removed]",
            "text/plain": [
              "<Figure size 432x288 with 1 Axes>"
            ]
          },
          "metadata": {
            "tags": [],
            "needs_background": "light"
          }
        },
        {
          "output_type": "display_data",
          "data": {
            "image/png": "[encoded data removed]",
            "text/plain": [
              "<Figure size 432x288 with 1 Axes>"
            ]
          },
          "metadata": {
            "tags": [],
            "needs_background": "light"
          }
        },
        {
          "output_type": "display_data",
          "data": {
            "image/png": "[encoded data removed]",
            "text/plain": [
              "<Figure size 432x288 with 1 Axes>"
            ]
          },
          "metadata": {
            "tags": [],
            "needs_background": "light"
          }
        },
        {
          "output_type": "display_data",
          "data": {
            "image/png": "[encoded data removed]",
            "text/plain": [
              "<Figure size 432x288 with 1 Axes>"
            ]
          },
          "metadata": {
            "tags": [],
            "needs_background": "light"
          }
        },
        {
          "output_type": "display_data",
          "data": {
            "image/png": "[encoded data removed]",
            "text/plain": [
              "<Figure size 432x288 with 1 Axes>"
            ]
          },
          "metadata": {
            "tags": [],
            "needs_background": "light"
          }
        },
        {
          "output_type": "display_data",
          "data": {
            "image/png": "[encoded data removed]",
            "text/plain": [
              "<Figure size 432x288 with 1 Axes>"
            ]
          },
          "metadata": {
            "tags": [],
            "needs_background": "light"
          }
        }
      ]
    },
    {
      "cell_type": "markdown",
      "metadata": {
        "id": "tyjRCBTxB_uS"
      },
      "source": [
        "There are outliers in CreditScore, Age and NumofProduct colums."
      ]
    },
    {
      "cell_type": "code",
      "metadata": {
        "colab": {
          "base_uri": "https://localhost:8080/",
          "height": 3504
        },
        "id": "IRyyjDDmHIut",
        "outputId": "a2e3858d-0209-4a5a-8723-a1ec4f538ef3"
      },
      "source": [
        "for col in df_num:\n",
        "    print(col,\"-\", skew(df_num[col]))\n",
        "    plt.figure()\n",
        "    sns.displot(df_num[col])\n",
        "    plt.show()"
      ],
      "execution_count": 30,
      "outputs": [
        {
          "output_type": "stream",
          "text": [
            "CreditScore - -0.07159586676212397\n"
          ],
          "name": "stdout"
        },
        {
          "output_type": "display_data",
          "data": {
            "text/plain": [
              "<Figure size 432x288 with 0 Axes>"
            ]
          },
          "metadata": {
            "tags": []
          }
        },
        {
          "output_type": "display_data",
          "data": {
            "image/png": "[encoded data removed]",
            "text/plain": [
              "<Figure size 360x360 with 1 Axes>"
            ]
          },
          "metadata": {
            "tags": [],
            "needs_background": "light"
          }
        },
        {
          "output_type": "stream",
          "text": [
            "Age - 1.0111685586628079\n"
          ],
          "name": "stdout"
        },
        {
          "output_type": "display_data",
          "data": {
            "text/plain": [
              "<Figure size 432x288 with 0 Axes>"
            ]
          },
          "metadata": {
            "tags": []
          }
        },
        {
          "output_type": "display_data",
          "data": {
            "image/png": "[encoded data removed]",
            "text/plain": [
              "<Figure size 360x360 with 1 Axes>"
            ]
          },
          "metadata": {
            "tags": [],
            "needs_background": "light"
          }
        },
        {
          "output_type": "stream",
          "text": [
            "Tenure - 0.010989809189781041\n"
          ],
          "name": "stdout"
        },
        {
          "output_type": "display_data",
          "data": {
            "text/plain": [
              "<Figure size 432x288 with 0 Axes>"
            ]
          },
          "metadata": {
            "tags": []
          }
        },
        {
          "output_type": "display_data",
          "data": {
            "image/png": "[encoded data removed]",
            "text/plain": [
              "<Figure size 360x360 with 1 Axes>"
            ]
          },
          "metadata": {
            "tags": [],
            "needs_background": "light"
          }
        },
        {
          "output_type": "stream",
          "text": [
            "Balance - -0.14108754375291138\n"
          ],
          "name": "stdout"
        },
        {
          "output_type": "display_data",
          "data": {
            "text/plain": [
              "<Figure size 432x288 with 0 Axes>"
            ]
          },
          "metadata": {
            "tags": []
          }
        },
        {
          "output_type": "display_data",
          "data": {
            "image/png": "[encoded data removed]",
            "text/plain": [
              "<Figure size 360x360 with 1 Axes>"
            ]
          },
          "metadata": {
            "tags": [],
            "needs_background": "light"
          }
        },
        {
          "output_type": "stream",
          "text": [
            "NumOfProducts - 0.745456048438949\n"
          ],
          "name": "stdout"
        },
        {
          "output_type": "display_data",
          "data": {
            "text/plain": [
              "<Figure size 432x288 with 0 Axes>"
            ]
          },
          "metadata": {
            "tags": []
          }
        },
        {
          "output_type": "display_data",
          "data": {
            "image/png": "[encoded data removed]",
            "text/plain": [
              "<Figure size 360x360 with 1 Axes>"
            ]
          },
          "metadata": {
            "tags": [],
            "needs_background": "light"
          }
        },
        {
          "output_type": "stream",
          "text": [
            "HasCrCard - -0.9016763178640548\n"
          ],
          "name": "stdout"
        },
        {
          "output_type": "display_data",
          "data": {
            "text/plain": [
              "<Figure size 432x288 with 0 Axes>"
            ]
          },
          "metadata": {
            "tags": []
          }
        },
        {
          "output_type": "display_data",
          "data": {
            "image/png": "[encoded data removed]",
            "text/plain": [
              "<Figure size 360x360 with 1 Axes>"
            ]
          },
          "metadata": {
            "tags": [],
            "needs_background": "light"
          }
        },
        {
          "output_type": "stream",
          "text": [
            "IsActiveMember - -0.06042756246298516\n"
          ],
          "name": "stdout"
        },
        {
          "output_type": "display_data",
          "data": {
            "text/plain": [
              "<Figure size 432x288 with 0 Axes>"
            ]
          },
          "metadata": {
            "tags": []
          }
        },
        {
          "output_type": "display_data",
          "data": {
            "image/png": "[encoded data removed]",
            "text/plain": [
              "<Figure size 360x360 with 1 Axes>"
            ]
          },
          "metadata": {
            "tags": [],
            "needs_background": "light"
          }
        },
        {
          "output_type": "stream",
          "text": [
            "EstimatedSalary - 0.0020850448448748848\n"
          ],
          "name": "stdout"
        },
        {
          "output_type": "display_data",
          "data": {
            "text/plain": [
              "<Figure size 432x288 with 0 Axes>"
            ]
          },
          "metadata": {
            "tags": []
          }
        },
        {
          "output_type": "display_data",
          "data": {
            "image/png": "[encoded data removed]",
            "text/plain": [
              "<Figure size 360x360 with 1 Axes>"
            ]
          },
          "metadata": {
            "tags": [],
            "needs_background": "light"
          }
        },
        {
          "output_type": "stream",
          "text": [
            "Exited - 1.4713899141398699\n"
          ],
          "name": "stdout"
        },
        {
          "output_type": "display_data",
          "data": {
            "text/plain": [
              "<Figure size 432x288 with 0 Axes>"
            ]
          },
          "metadata": {
            "tags": []
          }
        },
        {
          "output_type": "display_data",
          "data": {
            "image/png": "[encoded data removed]",
            "text/plain": [
              "<Figure size 360x360 with 1 Axes>"
            ]
          },
          "metadata": {
            "tags": [],
            "needs_background": "light"
          }
        }
      ]
    },
    {
      "cell_type": "markdown",
      "metadata": {
        "id": "PPDzChUbYiZ6"
      },
      "source": [
        "**BIVARIATE ANALYSIS :**"
      ]
    },
    {
      "cell_type": "code",
      "metadata": {
        "colab": {
          "base_uri": "https://localhost:8080/",
          "height": 2374
        },
        "id": "-IHlb2dmOW1d",
        "outputId": "4d19d605-7577-4286-b8c6-ba9c427e27e9"
      },
      "source": [
        "for col in df_num:\n",
        " plt.figure()\n",
        " sns.boxplot(x='Exited',y = df_num[col],data=df_num)\n",
        " plt.show()"
      ],
      "execution_count": 31,
      "outputs": [
        {
          "output_type": "display_data",
          "data": {
            "image/png": "[encoded data removed]",
            "text/plain": [
              "<Figure size 432x288 with 1 Axes>"
            ]
          },
          "metadata": {
            "tags": [],
            "needs_background": "light"
          }
        },
        {
          "output_type": "display_data",
          "data": {
            "image/png": "[encoded data removed]",
            "text/plain": [
              "<Figure size 432x288 with 1 Axes>"
            ]
          },
          "metadata": {
            "tags": [],
            "needs_background": "light"
          }
        },
        {
          "output_type": "display_data",
          "data": {
            "image/png": "[encoded data removed]",
            "text/plain": [
              "<Figure size 432x288 with 1 Axes>"
            ]
          },
          "metadata": {
            "tags": [],
            "needs_background": "light"
          }
        },
        {
          "output_type": "display_data",
          "data": {
            "image/png": "[encoded data removed]",
            "text/plain": [
              "<Figure size 432x288 with 1 Axes>"
            ]
          },
          "metadata": {
            "tags": [],
            "needs_background": "light"
          }
        },
        {
          "output_type": "display_data",
          "data": {
            "image/png": "[encoded data removed]",
            "text/plain": [
              "<Figure size 432x288 with 1 Axes>"
            ]
          },
          "metadata": {
            "tags": [],
            "needs_background": "light"
          }
        },
        {
          "output_type": "display_data",
          "data": {
            "image/png": "[encoded data removed]",
            "text/plain": [
              "<Figure size 432x288 with 1 Axes>"
            ]
          },
          "metadata": {
            "tags": [],
            "needs_background": "light"
          }
        },
        {
          "output_type": "display_data",
          "data": {
            "image/png": "[encoded data removed]",
            "text/plain": [
              "<Figure size 432x288 with 1 Axes>"
            ]
          },
          "metadata": {
            "tags": [],
            "needs_background": "light"
          }
        },
        {
          "output_type": "display_data",
          "data": {
            "image/png": "[encoded data removed]",
            "text/plain": [
              "<Figure size 432x288 with 1 Axes>"
            ]
          },
          "metadata": {
            "tags": [],
            "needs_background": "light"
          }
        },
        {
          "output_type": "display_data",
          "data": {
            "image/png": "[encoded data removed]",
            "text/plain": [
              "<Figure size 432x288 with 1 Axes>"
            ]
          },
          "metadata": {
            "tags": [],
            "needs_background": "light"
          }
        }
      ]
    },
    {
      "cell_type": "markdown",
      "metadata": {
        "id": "Jah6oyZbRDY3"
      },
      "source": [
        "From the boxplots we can conclude that:\n",
        "\n",
        "1> There is no significant difference in the credit score distribution between retained and churned customers.\n",
        "\n",
        "2> Cutomers mostly between the age group of 35 to 50 are churning and those between 30 to 40 age group are not. The bank may need to review their target market or review the strategy for retention between the different age groups.\n",
        "\n",
        "3> Customers having shorter tenure period have stayed with the bank while those having a lager tenure period have Exited.\n",
        "\n",
        "4> The bank is losing customers with significant bank balances.\n",
        "\n",
        "5> NumOfProducts,\tHasCrCard,\tIsActiveMember and \tEstimatedSalary\tdo not have any significant relation with Customer churn.\n"
      ]
    },
    {
      "cell_type": "code",
      "metadata": {
        "colab": {
          "base_uri": "https://localhost:8080/",
          "height": 278
        },
        "id": "JX5A9gfSkDCP",
        "outputId": "abf83c57-d73d-4a9c-97f6-f8da1e779d86"
      },
      "source": [
        "plt.figure()\n",
        "sns.countplot('Geography', hue = 'Exited', data = df)\n",
        "plt.show()"
      ],
      "execution_count": 32,
      "outputs": [
        {
          "output_type": "display_data",
          "data": {
            "image/png": "[encoded data removed]",
            "text/plain": [
              "<Figure size 432x288 with 1 Axes>"
            ]
          },
          "metadata": {
            "tags": [],
            "needs_background": "light"
          }
        }
      ]
    },
    {
      "cell_type": "code",
      "metadata": {
        "colab": {
          "base_uri": "https://localhost:8080/",
          "height": 278
        },
        "id": "8cH3wUlokzbC",
        "outputId": "7d054711-cea1-46ac-879a-51dc79b06a9d"
      },
      "source": [
        "plt.figure()\n",
        "sns.countplot('Gender', hue = 'Exited', data = df)\n",
        "plt.show()"
      ],
      "execution_count": 33,
      "outputs": [
        {
          "output_type": "display_data",
          "data": {
            "image/png": "[encoded data removed]",
            "text/plain": [
              "<Figure size 432x288 with 1 Axes>"
            ]
          },
          "metadata": {
            "tags": [],
            "needs_background": "light"
          }
        }
      ]
    },
    {
      "cell_type": "markdown",
      "metadata": {
        "id": "_V_mcqc6mA4B"
      },
      "source": [
        "From the count plots we can conclude that :\n",
        "\n",
        "1> Of the three countries, Germany has the highest Churning rate where as France has the highest number of customer who stayed.\n",
        "\n",
        "2>The number of female customers churning is greater than that of male."
      ]
    },
    {
      "cell_type": "markdown",
      "metadata": {
        "id": "GE6rMpMqLIPA"
      },
      "source": [
        "**CHECKING COLUMNS FOR IMBALENCED DATA :**"
      ]
    },
    {
      "cell_type": "code",
      "metadata": {
        "colab": {
          "base_uri": "https://localhost:8080/",
          "height": 482
        },
        "id": "_xrsTOdeK9uQ",
        "outputId": "cc5eb421-b4ec-4e04-ddab-93b1af288004"
      },
      "source": [
        "explode = (0, 0.1)\n",
        "plt.figure(figsize=(8,8))\n",
        "plt.pie(df_num['Exited'].value_counts(),labels=df_num['Exited'].unique(), explode = explode, autopct=\"%.1f%%\", startangle= 80)\n",
        "plt.title(col)\n",
        "plt.show()"
      ],
      "execution_count": 34,
      "outputs": [
        {
          "output_type": "display_data",
          "data": {
            "image/png": "[encoded data removed]",
            "text/plain": [
              "<Figure size 576x576 with 1 Axes>"
            ]
          },
          "metadata": {
            "tags": []
          }
        }
      ]
    },
    {
      "cell_type": "markdown",
      "metadata": {
        "id": "Bk-6xEKSLeP0"
      },
      "source": [
        "We can see that there is imbalenced data in Exited column with almost 80 percent of customers churning and only 20 percent retained."
      ]
    },
    {
      "cell_type": "markdown",
      "metadata": {
        "id": "l4vGL6lnLo1M"
      },
      "source": [
        "#Lable Encoding :"
      ]
    },
    {
      "cell_type": "code",
      "metadata": {
        "id": "ZbNLGJBWLqW6"
      },
      "source": [
        "from sklearn.preprocessing import LabelEncoder\n",
        "for col in df_cat:\n",
        "    le = LabelEncoder()\n",
        "    df_cat[col] = le.fit_transform(df_cat[col])"
      ],
      "execution_count": 35,
      "outputs": []
    },
    {
      "cell_type": "code",
      "metadata": {
        "id": "BHvPvzfpLw-O"
      },
      "source": [
        "#Concatenating the numeric and categoric columns\n",
        "df_new = pd.concat([df_num,df_cat], axis=1)"
      ],
      "execution_count": 36,
      "outputs": []
    },
    {
      "cell_type": "code",
      "metadata": {
        "colab": {
          "base_uri": "https://localhost:8080/",
          "height": 197
        },
        "id": "xvwra_99L1uV",
        "outputId": "3b18482b-3586-4ea8-cd84-0705d05f6889"
      },
      "source": [
        "df_new.head()"
      ],
      "execution_count": 37,
      "outputs": [
        {
          "output_type": "execute_result",
          "data": {
            "text/html": [
              "<div>\n",
              "<style scoped>\n",
              "    .dataframe tbody tr th:only-of-type {\n",
              "        vertical-align: middle;\n",
              "    }\n",
              "\n",
              "    .dataframe tbody tr th {\n",
              "        vertical-align: top;\n",
              "    }\n",
              "\n",
              "    .dataframe thead th {\n",
              "        text-align: right;\n",
              "    }\n",
              "</style>\n",
              "<table border=\"1\" class=\"dataframe\">\n",
              "  <thead>\n",
              "    <tr style=\"text-align: right;\">\n",
              "      <th></th>\n",
              "      <th>CreditScore</th>\n",
              "      <th>Age</th>\n",
              "      <th>Tenure</th>\n",
              "      <th>Balance</th>\n",
              "      <th>NumOfProducts</th>\n",
              "      <th>HasCrCard</th>\n",
              "      <th>IsActiveMember</th>\n",
              "      <th>EstimatedSalary</th>\n",
              "      <th>Exited</th>\n",
              "      <th>Surname</th>\n",
              "      <th>Geography</th>\n",
              "      <th>Gender</th>\n",
              "    </tr>\n",
              "  </thead>\n",
              "  <tbody>\n",
              "    <tr>\n",
              "      <th>0</th>\n",
              "      <td>619</td>\n",
              "      <td>42</td>\n",
              "      <td>2</td>\n",
              "      <td>0.00</td>\n",
              "      <td>1</td>\n",
              "      <td>1</td>\n",
              "      <td>1</td>\n",
              "      <td>101348.88</td>\n",
              "      <td>1</td>\n",
              "      <td>1115</td>\n",
              "      <td>0</td>\n",
              "      <td>0</td>\n",
              "    </tr>\n",
              "    <tr>\n",
              "      <th>1</th>\n",
              "      <td>608</td>\n",
              "      <td>41</td>\n",
              "      <td>1</td>\n",
              "      <td>83807.86</td>\n",
              "      <td>1</td>\n",
              "      <td>0</td>\n",
              "      <td>1</td>\n",
              "      <td>112542.58</td>\n",
              "      <td>0</td>\n",
              "      <td>1177</td>\n",
              "      <td>2</td>\n",
              "      <td>0</td>\n",
              "    </tr>\n",
              "    <tr>\n",
              "      <th>2</th>\n",
              "      <td>502</td>\n",
              "      <td>42</td>\n",
              "      <td>8</td>\n",
              "      <td>159660.80</td>\n",
              "      <td>3</td>\n",
              "      <td>1</td>\n",
              "      <td>0</td>\n",
              "      <td>113931.57</td>\n",
              "      <td>1</td>\n",
              "      <td>2040</td>\n",
              "      <td>0</td>\n",
              "      <td>0</td>\n",
              "    </tr>\n",
              "    <tr>\n",
              "      <th>3</th>\n",
              "      <td>699</td>\n",
              "      <td>39</td>\n",
              "      <td>1</td>\n",
              "      <td>0.00</td>\n",
              "      <td>2</td>\n",
              "      <td>0</td>\n",
              "      <td>0</td>\n",
              "      <td>93826.63</td>\n",
              "      <td>0</td>\n",
              "      <td>289</td>\n",
              "      <td>0</td>\n",
              "      <td>0</td>\n",
              "    </tr>\n",
              "    <tr>\n",
              "      <th>4</th>\n",
              "      <td>850</td>\n",
              "      <td>43</td>\n",
              "      <td>2</td>\n",
              "      <td>125510.82</td>\n",
              "      <td>1</td>\n",
              "      <td>1</td>\n",
              "      <td>1</td>\n",
              "      <td>79084.10</td>\n",
              "      <td>0</td>\n",
              "      <td>1822</td>\n",
              "      <td>2</td>\n",
              "      <td>0</td>\n",
              "    </tr>\n",
              "  </tbody>\n",
              "</table>\n",
              "</div>"
            ],
            "text/plain": [
              "   CreditScore  Age  Tenure    Balance  ...  Exited  Surname  Geography  Gender\n",
              "0          619   42       2       0.00  ...       1     1115          0       0\n",
              "1          608   41       1   83807.86  ...       0     1177          2       0\n",
              "2          502   42       8  159660.80  ...       1     2040          0       0\n",
              "3          699   39       1       0.00  ...       0      289          0       0\n",
              "4          850   43       2  125510.82  ...       0     1822          2       0\n",
              "\n",
              "[5 rows x 12 columns]"
            ]
          },
          "metadata": {
            "tags": []
          },
          "execution_count": 37
        }
      ]
    },
    {
      "cell_type": "code",
      "metadata": {
        "colab": {
          "base_uri": "https://localhost:8080/",
          "height": 0
        },
        "id": "7ZAFiuSEL4Sj",
        "outputId": "d139ad04-6fb7-40dd-a00e-318b600e88da"
      },
      "source": [
        "df_new.shape"
      ],
      "execution_count": 38,
      "outputs": [
        {
          "output_type": "execute_result",
          "data": {
            "text/plain": [
              "(10000, 12)"
            ]
          },
          "metadata": {
            "tags": []
          },
          "execution_count": 38
        }
      ]
    },
    {
      "cell_type": "code",
      "metadata": {
        "id": "0rK53w1IL6zq"
      },
      "source": [
        "y = df_new[[\"Exited\"]]\n",
        "X = df_new.drop([\"Exited\"],axis=1)"
      ],
      "execution_count": 39,
      "outputs": []
    },
    {
      "cell_type": "code",
      "metadata": {
        "id": "c_K0wLYf49yC"
      },
      "source": [
        "for col in X:\n",
        "    if skew(X[col] >0.5) or skew(X[col] <0.5):\n",
        "     X[col]= np.sqrt(X[col])"
      ],
      "execution_count": 40,
      "outputs": []
    },
    {
      "cell_type": "code",
      "metadata": {
        "id": "mrkEzeQbNS5j"
      },
      "source": [
        "#Splitting training and testint data.\n",
        "X_train,X_test,y_train,y_test = train_test_split(X,y,test_size=0.3,random_state=1)"
      ],
      "execution_count": 129,
      "outputs": []
    },
    {
      "cell_type": "code",
      "metadata": {
        "id": "hFZfKwjtNdPh"
      },
      "source": [
        "from sklearn.preprocessing import StandardScaler\n",
        "ss = StandardScaler()\n",
        "X_train_ss = ss.fit_transform(X_train)\n",
        "X_test_ss = ss.transform(X_test)"
      ],
      "execution_count": 130,
      "outputs": []
    },
    {
      "cell_type": "markdown",
      "metadata": {
        "id": "TXtbDt1OvRgL"
      },
      "source": [
        "#BASELINE MODEL :"
      ]
    },
    {
      "cell_type": "code",
      "metadata": {
        "id": "7rSvJlfwwsa0"
      },
      "source": [
        "base_model = Sequential()\n",
        "base_model.add(Dense(16,input_shape=(X.shape[1],),activation = 'relu'))\n",
        "base_model.add(Dense(8,activation='relu'))\n",
        "base_model.add(Dense(4,activation='relu'))\n",
        "base_model.add(Dense(1,activation='sigmoid'))"
      ],
      "execution_count": 131,
      "outputs": []
    },
    {
      "cell_type": "code",
      "metadata": {
        "colab": {
          "base_uri": "https://localhost:8080/",
          "height": 0
        },
        "id": "4Xa3kXYJwsnX",
        "outputId": "23daf8ba-6a36-4cc8-855e-431526ed4d9a"
      },
      "source": [
        "base_model.summary()"
      ],
      "execution_count": 132,
      "outputs": [
        {
          "output_type": "stream",
          "text": [
            "Model: \"sequential_8\"\n",
            "_________________________________________________________________\n",
            "Layer (type)                 Output Shape              Param #   \n",
            "=================================================================\n",
            "dense_32 (Dense)             (None, 16)                192       \n",
            "_________________________________________________________________\n",
            "dense_33 (Dense)             (None, 8)                 136       \n",
            "_________________________________________________________________\n",
            "dense_34 (Dense)             (None, 4)                 36        \n",
            "_________________________________________________________________\n",
            "dense_35 (Dense)             (None, 1)                 5         \n",
            "=================================================================\n",
            "Total params: 369\n",
            "Trainable params: 369\n",
            "Non-trainable params: 0\n",
            "_________________________________________________________________\n"
          ],
          "name": "stdout"
        }
      ]
    },
    {
      "cell_type": "code",
      "metadata": {
        "id": "Eq6Du_fRwswh"
      },
      "source": [
        "base_model.compile(optimizer = 'adam', loss = 'binary_crossentropy')"
      ],
      "execution_count": 133,
      "outputs": []
    },
    {
      "cell_type": "code",
      "metadata": {
        "colab": {
          "base_uri": "https://localhost:8080/",
          "height": 0
        },
        "id": "UAIIyq3rws6_",
        "outputId": "a7c7eb87-ec62-4378-bc90-358d27072203"
      },
      "source": [
        "base_model_history = base_model.fit(X_train_ss, y_train, epochs = 25, batch_size = 50)"
      ],
      "execution_count": 134,
      "outputs": [
        {
          "output_type": "stream",
          "text": [
            "Epoch 1/25\n",
            "140/140 [==============================] - 0s 754us/step - loss: 0.6723\n",
            "Epoch 2/25\n",
            "140/140 [==============================] - 0s 889us/step - loss: 0.4766\n",
            "Epoch 3/25\n",
            "140/140 [==============================] - 0s 721us/step - loss: 0.4434\n",
            "Epoch 4/25\n",
            "140/140 [==============================] - 0s 687us/step - loss: 0.4348\n",
            "Epoch 5/25\n",
            "140/140 [==============================] - 0s 687us/step - loss: 0.4161\n",
            "Epoch 6/25\n",
            "140/140 [==============================] - 0s 720us/step - loss: 0.3967\n",
            "Epoch 7/25\n",
            "140/140 [==============================] - 0s 682us/step - loss: 0.3936\n",
            "Epoch 8/25\n",
            "140/140 [==============================] - 0s 693us/step - loss: 0.3819\n",
            "Epoch 9/25\n",
            "140/140 [==============================] - 0s 714us/step - loss: 0.3593\n",
            "Epoch 10/25\n",
            "140/140 [==============================] - 0s 663us/step - loss: 0.3430\n",
            "Epoch 11/25\n",
            "140/140 [==============================] - 0s 678us/step - loss: 0.3630\n",
            "Epoch 12/25\n",
            "140/140 [==============================] - 0s 900us/step - loss: 0.3529\n",
            "Epoch 13/25\n",
            "140/140 [==============================] - 0s 718us/step - loss: 0.3629\n",
            "Epoch 14/25\n",
            "140/140 [==============================] - 0s 805us/step - loss: 0.3451\n",
            "Epoch 15/25\n",
            "140/140 [==============================] - 0s 704us/step - loss: 0.3407\n",
            "Epoch 16/25\n",
            "140/140 [==============================] - 0s 785us/step - loss: 0.3465\n",
            "Epoch 17/25\n",
            "140/140 [==============================] - 0s 720us/step - loss: 0.3430\n",
            "Epoch 18/25\n",
            "140/140 [==============================] - 0s 829us/step - loss: 0.3498\n",
            "Epoch 19/25\n",
            "140/140 [==============================] - 0s 847us/step - loss: 0.3423\n",
            "Epoch 20/25\n",
            "140/140 [==============================] - 0s 772us/step - loss: 0.3438\n",
            "Epoch 21/25\n",
            "140/140 [==============================] - 0s 806us/step - loss: 0.3354\n",
            "Epoch 22/25\n",
            "140/140 [==============================] - 0s 681us/step - loss: 0.3325\n",
            "Epoch 23/25\n",
            "140/140 [==============================] - 0s 794us/step - loss: 0.3366\n",
            "Epoch 24/25\n",
            "140/140 [==============================] - 0s 711us/step - loss: 0.3235\n",
            "Epoch 25/25\n",
            "140/140 [==============================] - 0s 874us/step - loss: 0.3417\n"
          ],
          "name": "stdout"
        }
      ]
    },
    {
      "cell_type": "code",
      "metadata": {
        "colab": {
          "base_uri": "https://localhost:8080/",
          "height": 282
        },
        "id": "nxMirZ5GwtDB",
        "outputId": "77b250c3-f537-465b-e6e2-3813d9d66719"
      },
      "source": [
        "plt.plot(base_model_history.history[\"loss\"])"
      ],
      "execution_count": 135,
      "outputs": [
        {
          "output_type": "execute_result",
          "data": {
            "text/plain": [
              "[<matplotlib.lines.Line2D at 0x7f9193b849d0>]"
            ]
          },
          "metadata": {
            "tags": []
          },
          "execution_count": 135
        },
        {
          "output_type": "display_data",
          "data": {
            "image/png": "[encoded data removed]",
            "text/plain": [
              "<Figure size 432x288 with 1 Axes>"
            ]
          },
          "metadata": {
            "tags": [],
            "needs_background": "light"
          }
        }
      ]
    },
    {
      "cell_type": "code",
      "metadata": {
        "id": "1oQ9xwiKwtLq"
      },
      "source": [
        "y_pred_base = base_model.predict(X_test_ss)"
      ],
      "execution_count": 136,
      "outputs": []
    },
    {
      "cell_type": "code",
      "metadata": {
        "id": "dDN7iHVgwtT7"
      },
      "source": [
        "y_pred_base = np.where(y_pred_base>0.5,1,0)"
      ],
      "execution_count": 137,
      "outputs": []
    },
    {
      "cell_type": "code",
      "metadata": {
        "colab": {
          "base_uri": "https://localhost:8080/",
          "height": 0
        },
        "id": "zKq4KUO00Tv2",
        "outputId": "1c863c8a-d4f2-4fd9-b493-f1a16c262297"
      },
      "source": [
        "print(classification_report(y_test,y_pred_base))"
      ],
      "execution_count": 138,
      "outputs": [
        {
          "output_type": "stream",
          "text": [
            "              precision    recall  f1-score   support\n",
            "\n",
            "           0       0.86      0.97      0.91      2373\n",
            "           1       0.77      0.43      0.55       627\n",
            "\n",
            "    accuracy                           0.85      3000\n",
            "   macro avg       0.82      0.70      0.73      3000\n",
            "weighted avg       0.84      0.85      0.84      3000\n",
            "\n"
          ],
          "name": "stdout"
        }
      ]
    },
    {
      "cell_type": "markdown",
      "metadata": {
        "id": "YMqC7Y_T_g0f"
      },
      "source": [
        "**Our main aim is to predict the customers that will possibly churn so that the bank can retain them. So if a customer who is going to chun is wrongly predicted by the model as not going to churn, the bank wont make strategy to retain that customer and will lose him. Hence the False negative i.e. recall measures on the 1's is of more importance to us than the overall accuracy score of the model. For the base line model as we can see the value of recall is very low.**"
      ]
    },
    {
      "cell_type": "markdown",
      "metadata": {
        "id": "CCx38OYKN9N_"
      },
      "source": [
        "#Handeling imbalenced data"
      ]
    },
    {
      "cell_type": "markdown",
      "metadata": {
        "id": "DZr-s3K9OEyw"
      },
      "source": [
        "#Oversampling"
      ]
    },
    {
      "cell_type": "code",
      "metadata": {
        "id": "8gSkTnFXN1wb"
      },
      "source": [
        "from imblearn.over_sampling import RandomOverSampler"
      ],
      "execution_count": 53,
      "outputs": []
    },
    {
      "cell_type": "code",
      "metadata": {
        "id": "6jUDiPZmOUZS"
      },
      "source": [
        "ros = RandomOverSampler(random_state=1)"
      ],
      "execution_count": 54,
      "outputs": []
    },
    {
      "cell_type": "code",
      "metadata": {
        "id": "_V5HVbMGOZr_"
      },
      "source": [
        "X_sample_1 ,y_sample_1 = ros.fit_resample(X_train_ss,y_train)"
      ],
      "execution_count": 55,
      "outputs": []
    },
    {
      "cell_type": "code",
      "metadata": {
        "colab": {
          "base_uri": "https://localhost:8080/",
          "height": 0
        },
        "id": "lIIJhpeCOkP_",
        "outputId": "71e409ae-5138-4187-910a-1d5ad4ee3d14"
      },
      "source": [
        "pd.Series(y_sample_1).value_counts()"
      ],
      "execution_count": 56,
      "outputs": [
        {
          "output_type": "execute_result",
          "data": {
            "text/plain": [
              "1    5590\n",
              "0    5590\n",
              "dtype: int64"
            ]
          },
          "metadata": {
            "tags": []
          },
          "execution_count": 56
        }
      ]
    },
    {
      "cell_type": "markdown",
      "metadata": {
        "id": "KMaiIBpRO_ZG"
      },
      "source": [
        "#Under Sampling"
      ]
    },
    {
      "cell_type": "code",
      "metadata": {
        "id": "e6Ol8DUCOr5c"
      },
      "source": [
        "from imblearn.under_sampling import RandomUnderSampler"
      ],
      "execution_count": 57,
      "outputs": []
    },
    {
      "cell_type": "code",
      "metadata": {
        "id": "Mkb_89uUO26h"
      },
      "source": [
        "rus = RandomUnderSampler(random_state=1)"
      ],
      "execution_count": 58,
      "outputs": []
    },
    {
      "cell_type": "code",
      "metadata": {
        "id": "zlUhpO7SPODX"
      },
      "source": [
        "X_sample_2, y_sample_2 = rus.fit_resample(X_train_ss, y_train)"
      ],
      "execution_count": 59,
      "outputs": []
    },
    {
      "cell_type": "code",
      "metadata": {
        "id": "vbzP79h9wo3m"
      },
      "source": [
        "pd.Series(y_sample_2).value_counts()"
      ],
      "execution_count": null,
      "outputs": []
    },
    {
      "cell_type": "markdown",
      "metadata": {
        "id": "ByuC2QGLPmA9"
      },
      "source": [
        "#**ANN WITH OVERSAMPLING:**"
      ]
    },
    {
      "cell_type": "code",
      "metadata": {
        "id": "6fpHt2mvPtE2"
      },
      "source": [
        "model = Sequential()\n",
        "model.add(Dense(16,input_shape=(X.shape[1],), activation=\"relu\"))\n",
        "model.add(Dense(8, activation=\"relu\"))\n",
        "model.add(Dense(4,activation=\"relu\"))\n",
        "model.add(Dense(1,activation=\"sigmoid\"))"
      ],
      "execution_count": 139,
      "outputs": []
    },
    {
      "cell_type": "code",
      "metadata": {
        "id": "pWsmZE3aQik5"
      },
      "source": [
        "model.compile(loss=\"binary_crossentropy\",optimizer=\"adam\")"
      ],
      "execution_count": 140,
      "outputs": []
    },
    {
      "cell_type": "code",
      "metadata": {
        "colab": {
          "base_uri": "https://localhost:8080/",
          "height": 0
        },
        "id": "NDTaBq9CJYuq",
        "outputId": "6f5f2053-d965-4507-95af-83182c5ccb48"
      },
      "source": [
        "model.summary()"
      ],
      "execution_count": 141,
      "outputs": [
        {
          "output_type": "stream",
          "text": [
            "Model: \"sequential_9\"\n",
            "_________________________________________________________________\n",
            "Layer (type)                 Output Shape              Param #   \n",
            "=================================================================\n",
            "dense_36 (Dense)             (None, 16)                192       \n",
            "_________________________________________________________________\n",
            "dense_37 (Dense)             (None, 8)                 136       \n",
            "_________________________________________________________________\n",
            "dense_38 (Dense)             (None, 4)                 36        \n",
            "_________________________________________________________________\n",
            "dense_39 (Dense)             (None, 1)                 5         \n",
            "=================================================================\n",
            "Total params: 369\n",
            "Trainable params: 369\n",
            "Non-trainable params: 0\n",
            "_________________________________________________________________\n"
          ],
          "name": "stdout"
        }
      ]
    },
    {
      "cell_type": "code",
      "metadata": {
        "colab": {
          "base_uri": "https://localhost:8080/",
          "height": 0
        },
        "id": "ZsOYqg7vQo2X",
        "outputId": "aec239d7-6fcb-4b46-aa4c-ec685dcfe56f"
      },
      "source": [
        "history = model.fit(X_sample_1,y_sample_1,epochs=25,batch_size=50)"
      ],
      "execution_count": 104,
      "outputs": [
        {
          "output_type": "stream",
          "text": [
            "Epoch 1/25\n",
            "224/224 [==============================] - 1s 778us/step - loss: 0.6690\n",
            "Epoch 2/25\n",
            "224/224 [==============================] - 0s 746us/step - loss: 0.6000\n",
            "Epoch 3/25\n",
            "224/224 [==============================] - 0s 752us/step - loss: 0.5580\n",
            "Epoch 4/25\n",
            "224/224 [==============================] - 0s 789us/step - loss: 0.5303\n",
            "Epoch 5/25\n",
            "224/224 [==============================] - 0s 783us/step - loss: 0.5106\n",
            "Epoch 6/25\n",
            "224/224 [==============================] - 0s 781us/step - loss: 0.5035\n",
            "Epoch 7/25\n",
            "224/224 [==============================] - 0s 822us/step - loss: 0.4999\n",
            "Epoch 8/25\n",
            "224/224 [==============================] - 0s 804us/step - loss: 0.4977\n",
            "Epoch 9/25\n",
            "224/224 [==============================] - 0s 795us/step - loss: 0.4797\n",
            "Epoch 10/25\n",
            "224/224 [==============================] - 0s 772us/step - loss: 0.4795\n",
            "Epoch 11/25\n",
            "224/224 [==============================] - 0s 735us/step - loss: 0.4658\n",
            "Epoch 12/25\n",
            "224/224 [==============================] - 0s 739us/step - loss: 0.4682\n",
            "Epoch 13/25\n",
            "224/224 [==============================] - 0s 760us/step - loss: 0.4615\n",
            "Epoch 14/25\n",
            "224/224 [==============================] - 0s 764us/step - loss: 0.4612\n",
            "Epoch 15/25\n",
            "224/224 [==============================] - 0s 819us/step - loss: 0.4551\n",
            "Epoch 16/25\n",
            "224/224 [==============================] - 0s 787us/step - loss: 0.4558\n",
            "Epoch 17/25\n",
            "224/224 [==============================] - 0s 805us/step - loss: 0.4597\n",
            "Epoch 18/25\n",
            "224/224 [==============================] - 0s 833us/step - loss: 0.4429\n",
            "Epoch 19/25\n",
            "224/224 [==============================] - 0s 775us/step - loss: 0.4492\n",
            "Epoch 20/25\n",
            "224/224 [==============================] - 0s 757us/step - loss: 0.4511\n",
            "Epoch 21/25\n",
            "224/224 [==============================] - 0s 814us/step - loss: 0.4489\n",
            "Epoch 22/25\n",
            "224/224 [==============================] - 0s 772us/step - loss: 0.4538\n",
            "Epoch 23/25\n",
            "224/224 [==============================] - 0s 791us/step - loss: 0.4408\n",
            "Epoch 24/25\n",
            "224/224 [==============================] - 0s 791us/step - loss: 0.4407\n",
            "Epoch 25/25\n",
            "224/224 [==============================] - 0s 765us/step - loss: 0.4477\n"
          ],
          "name": "stdout"
        }
      ]
    },
    {
      "cell_type": "code",
      "metadata": {
        "colab": {
          "base_uri": "https://localhost:8080/",
          "height": 282
        },
        "id": "jIcU2rfrQ0HO",
        "outputId": "b3bcd717-2c7c-4ea7-905e-9b432262611e"
      },
      "source": [
        "plt.plot(history.history[\"loss\"])"
      ],
      "execution_count": 105,
      "outputs": [
        {
          "output_type": "execute_result",
          "data": {
            "text/plain": [
              "[<matplotlib.lines.Line2D at 0x7f919b6e5390>]"
            ]
          },
          "metadata": {
            "tags": []
          },
          "execution_count": 105
        },
        {
          "output_type": "display_data",
          "data": {
            "image/png": "[encoded data removed]",
            "text/plain": [
              "<Figure size 432x288 with 1 Axes>"
            ]
          },
          "metadata": {
            "tags": [],
            "needs_background": "light"
          }
        }
      ]
    },
    {
      "cell_type": "code",
      "metadata": {
        "id": "-a_Vz72YROkz"
      },
      "source": [
        "y_pred = model.predict(X_sample_1)"
      ],
      "execution_count": 106,
      "outputs": []
    },
    {
      "cell_type": "code",
      "metadata": {
        "id": "-_TY2GtgRZhW"
      },
      "source": [
        "y_pred = np.where(y_pred >= 0.5, 1, 0)"
      ],
      "execution_count": 107,
      "outputs": []
    },
    {
      "cell_type": "code",
      "metadata": {
        "colab": {
          "base_uri": "https://localhost:8080/",
          "height": 0
        },
        "id": "IgPrvipZReLJ",
        "outputId": "fd7c628b-4088-4bff-fb58-04988ac3953a"
      },
      "source": [
        "print(classification_report(y_sample_1,y_pred))"
      ],
      "execution_count": 108,
      "outputs": [
        {
          "output_type": "stream",
          "text": [
            "              precision    recall  f1-score   support\n",
            "\n",
            "           0       0.78      0.84      0.81      5590\n",
            "           1       0.82      0.76      0.79      5590\n",
            "\n",
            "    accuracy                           0.80     11180\n",
            "   macro avg       0.80      0.80      0.80     11180\n",
            "weighted avg       0.80      0.80      0.80     11180\n",
            "\n"
          ],
          "name": "stdout"
        }
      ]
    },
    {
      "cell_type": "markdown",
      "metadata": {
        "id": "w4j5t-qaFG1W"
      },
      "source": [
        "**As we can see that the values of Precision, Recall and F1score have highly increased from that of the baseline model. Also Modelling with Oversamplling has given us a descent recall of 76% which is the paramount for our Goal.**"
      ]
    },
    {
      "cell_type": "markdown",
      "metadata": {
        "id": "iogaoaEsRuot"
      },
      "source": [
        "#**ANN WITH UNDERSAMPLING :**"
      ]
    },
    {
      "cell_type": "code",
      "metadata": {
        "id": "7IdgILmUR-M1"
      },
      "source": [
        "model = Sequential()\n",
        "model.add(Dense(16,input_shape=(X.shape[1],), activation=\"relu\"))\n",
        "model.add(Dense(8, activation=\"relu\"))\n",
        "model.add(Dense(4,activation=\"relu\"))\n",
        "model.add(Dense(1,activation=\"sigmoid\"))"
      ],
      "execution_count": 109,
      "outputs": []
    },
    {
      "cell_type": "code",
      "metadata": {
        "id": "kyXNG0saSEr0"
      },
      "source": [
        "model.compile(loss=\"binary_crossentropy\",optimizer=\"adam\")"
      ],
      "execution_count": 110,
      "outputs": []
    },
    {
      "cell_type": "code",
      "metadata": {
        "colab": {
          "base_uri": "https://localhost:8080/",
          "height": 0
        },
        "id": "ejoVwQSNSJ8A",
        "outputId": "341e17dd-30aa-4bb4-c20d-334b5f70f2dd"
      },
      "source": [
        "history = model.fit(X_sample_2,y_sample_2,epochs=25,batch_size=50)"
      ],
      "execution_count": 111,
      "outputs": [
        {
          "output_type": "stream",
          "text": [
            "Epoch 1/25\n",
            "57/57 [==============================] - 0s 792us/step - loss: 0.6922\n",
            "Epoch 2/25\n",
            "57/57 [==============================] - 0s 737us/step - loss: 0.6792\n",
            "Epoch 3/25\n",
            "57/57 [==============================] - 0s 728us/step - loss: 0.6625\n",
            "Epoch 4/25\n",
            "57/57 [==============================] - 0s 756us/step - loss: 0.6466\n",
            "Epoch 5/25\n",
            "57/57 [==============================] - 0s 728us/step - loss: 0.6135\n",
            "Epoch 6/25\n",
            "57/57 [==============================] - 0s 752us/step - loss: 0.5957\n",
            "Epoch 7/25\n",
            "57/57 [==============================] - 0s 738us/step - loss: 0.5924\n",
            "Epoch 8/25\n",
            "57/57 [==============================] - 0s 789us/step - loss: 0.5811\n",
            "Epoch 9/25\n",
            "57/57 [==============================] - 0s 693us/step - loss: 0.5760\n",
            "Epoch 10/25\n",
            "57/57 [==============================] - 0s 804us/step - loss: 0.5527\n",
            "Epoch 11/25\n",
            "57/57 [==============================] - 0s 796us/step - loss: 0.5575\n",
            "Epoch 12/25\n",
            "57/57 [==============================] - 0s 748us/step - loss: 0.5426\n",
            "Epoch 13/25\n",
            "57/57 [==============================] - 0s 773us/step - loss: 0.5415\n",
            "Epoch 14/25\n",
            "57/57 [==============================] - 0s 767us/step - loss: 0.5368\n",
            "Epoch 15/25\n",
            "57/57 [==============================] - 0s 886us/step - loss: 0.5259\n",
            "Epoch 16/25\n",
            "57/57 [==============================] - 0s 715us/step - loss: 0.5214\n",
            "Epoch 17/25\n",
            "57/57 [==============================] - 0s 742us/step - loss: 0.5263\n",
            "Epoch 18/25\n",
            "57/57 [==============================] - 0s 731us/step - loss: 0.5141\n",
            "Epoch 19/25\n",
            "57/57 [==============================] - 0s 845us/step - loss: 0.5046\n",
            "Epoch 20/25\n",
            "57/57 [==============================] - 0s 711us/step - loss: 0.5080\n",
            "Epoch 21/25\n",
            "57/57 [==============================] - 0s 754us/step - loss: 0.5068\n",
            "Epoch 22/25\n",
            "57/57 [==============================] - 0s 763us/step - loss: 0.4970\n",
            "Epoch 23/25\n",
            "57/57 [==============================] - 0s 721us/step - loss: 0.5008\n",
            "Epoch 24/25\n",
            "57/57 [==============================] - 0s 797us/step - loss: 0.4902\n",
            "Epoch 25/25\n",
            "57/57 [==============================] - 0s 1ms/step - loss: 0.4974\n"
          ],
          "name": "stdout"
        }
      ]
    },
    {
      "cell_type": "code",
      "metadata": {
        "colab": {
          "base_uri": "https://localhost:8080/",
          "height": 282
        },
        "id": "QXK3-u9CST_v",
        "outputId": "a009b441-0e4d-4d41-d936-f69e6680c9f5"
      },
      "source": [
        "plt.plot(history.history[\"loss\"])"
      ],
      "execution_count": 112,
      "outputs": [
        {
          "output_type": "execute_result",
          "data": {
            "text/plain": [
              "[<matplotlib.lines.Line2D at 0x7f9196047e90>]"
            ]
          },
          "metadata": {
            "tags": []
          },
          "execution_count": 112
        },
        {
          "output_type": "display_data",
          "data": {
            "image/png": "[encoded data removed]",
            "text/plain": [
              "<Figure size 432x288 with 1 Axes>"
            ]
          },
          "metadata": {
            "tags": [],
            "needs_background": "light"
          }
        }
      ]
    },
    {
      "cell_type": "code",
      "metadata": {
        "id": "6Nn54Qb6Sc3G"
      },
      "source": [
        "y_pred = model.predict(X_sample_2)"
      ],
      "execution_count": 113,
      "outputs": []
    },
    {
      "cell_type": "code",
      "metadata": {
        "id": "WktO8ytuSnzm"
      },
      "source": [
        "y_pred = np.where(y_pred >= 0.5, 1, 0)"
      ],
      "execution_count": 114,
      "outputs": []
    },
    {
      "cell_type": "code",
      "metadata": {
        "colab": {
          "base_uri": "https://localhost:8080/",
          "height": 0
        },
        "id": "6dUPNtk0Svjw",
        "outputId": "55c031d8-7c83-49db-ef81-0d9c3d8ccfd6"
      },
      "source": [
        "print(classification_report(y_sample_2,y_pred))"
      ],
      "execution_count": 115,
      "outputs": [
        {
          "output_type": "stream",
          "text": [
            "              precision    recall  f1-score   support\n",
            "\n",
            "           0       0.77      0.77      0.77      1410\n",
            "           1       0.77      0.77      0.77      1410\n",
            "\n",
            "    accuracy                           0.77      2820\n",
            "   macro avg       0.77      0.77      0.77      2820\n",
            "weighted avg       0.77      0.77      0.77      2820\n",
            "\n"
          ],
          "name": "stdout"
        }
      ]
    },
    {
      "cell_type": "markdown",
      "metadata": {
        "id": "s3auUgc2HsZH"
      },
      "source": [
        "**As we can see Modelling with Undersamplling is giving us better precision, recall and f1score than the Base model but, not as good as Modelling with Oversamplling.**"
      ]
    },
    {
      "cell_type": "markdown",
      "metadata": {
        "id": "cZCgsCk7TcNX"
      },
      "source": [
        "#***CONCLUSION***: \n",
        "**From the review of the fitted models above, the best model that gives a decent balance of the recall and precision is ANN WITH OVERSAMPLING, where we are getting a precision on 1's of 82 percent, recall of 76 percent, f1-score of 79 percent and accuracy of 80 percent. Out of all customers that the model thinks will churn, 82 percent do actually churn.** \n"
      ]
    }
  ]
}